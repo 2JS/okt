{
 "cells": [
  {
   "cell_type": "code",
   "execution_count": 1,
   "id": "6606bdb3",
   "metadata": {},
   "outputs": [
    {
     "name": "stdout",
     "output_type": "stream",
     "text": [
      "['나', '는', '밥', '을', '먹었다', '.']\n",
      "['나', '밥']\n",
      "[('나', 'Noun'), ('는', 'Josa'), ('밥', 'Noun'), ('을', 'Josa'), ('먹었다', 'Verb'), ('.', 'Punctuation')]\n",
      "[]\n",
      "나는 밥을 먹었다.\n"
     ]
    }
   ],
   "source": [
    "from konlpy.tag import Okt\n",
    "\n",
    "okt = Okt()\n",
    "\n",
    "text = \"나는 밥을 먹었다.\"\n",
    "\n",
    "print(okt.morphs(text))\n",
    "print(okt.nouns(text))\n",
    "print(okt.pos(text))\n",
    "print(okt.phrases(text))\n",
    "print(okt.normalize(text))"
   ]
  },
  {
   "cell_type": "code",
   "execution_count": null,
   "id": "0403298a",
   "metadata": {},
   "outputs": [],
   "source": []
  }
 ],
 "metadata": {
  "kernelspec": {
   "display_name": ".venv",
   "language": "python",
   "name": "python3"
  },
  "language_info": {
   "codemirror_mode": {
    "name": "ipython",
    "version": 3
   },
   "file_extension": ".py",
   "mimetype": "text/x-python",
   "name": "python",
   "nbconvert_exporter": "python",
   "pygments_lexer": "ipython3",
   "version": "3.13.5"
  }
 },
 "nbformat": 4,
 "nbformat_minor": 5
}
